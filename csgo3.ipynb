{
 "cells": [
  {
   "cell_type": "code",
   "execution_count": 12,
   "metadata": {},
   "outputs": [],
   "source": [
    "import pandas as pd\n",
    "import matplotlib.pyplot as plt \n",
    "from sklearn.linear_model import LogisticRegression\n",
    "from sklearn.metrics import accuracy_score"
   ]
  },
  {
   "cell_type": "code",
   "execution_count": 7,
   "metadata": {},
   "outputs": [],
   "source": [
    "data = pd.read_csv(\"csgo_round_snapshots.csv\")\n",
    "\n",
    "datamapset = list(set(data.map)) #получаем лист возможных вариантов для столбца map\n",
    "datamapdict = {i:datamapset.index(i) for i in datamapset} #создаем словарь ключ строка значение число\n",
    "data[\"map\"] = data[\"map\"].map(lambda x: datamapdict[x]) #заменяем строковые значения на числовые\n",
    "\n",
    "data.bomb_planted = data.bomb_planted.map(lambda x: str(x)) #приводим значения к строковому виду (from numpy.bool)\n",
    "dataplantset = list(set(data.bomb_planted)) #получаем лист возможных вариантов для столбца bomb_planted\n",
    "dataplantdict = {i:dataplantset.index(i) for i in dataplantset} #создаем словарь ключ строка значение число\n",
    "data.bomb_planted = data.bomb_planted.map(lambda x: dataplantdict[x]) #заменяем строковые значения на числовые\n",
    "\n",
    "data.round_winner = data.round_winner.map(lambda x:0 if x==\"CT\" else 1) #заменяем строковые значения на числовые"
   ]
  },
  {
   "cell_type": "code",
   "execution_count": 8,
   "metadata": {},
   "outputs": [
    {
     "data": {
      "text/html": [
       "<div>\n",
       "<style scoped>\n",
       "    .dataframe tbody tr th:only-of-type {\n",
       "        vertical-align: middle;\n",
       "    }\n",
       "\n",
       "    .dataframe tbody tr th {\n",
       "        vertical-align: top;\n",
       "    }\n",
       "\n",
       "    .dataframe thead th {\n",
       "        text-align: right;\n",
       "    }\n",
       "</style>\n",
       "<table border=\"1\" class=\"dataframe\">\n",
       "  <thead>\n",
       "    <tr style=\"text-align: right;\">\n",
       "      <th></th>\n",
       "      <th>time_left</th>\n",
       "      <th>ct_score</th>\n",
       "      <th>t_score</th>\n",
       "      <th>map</th>\n",
       "      <th>bomb_planted</th>\n",
       "      <th>ct_health</th>\n",
       "      <th>t_health</th>\n",
       "      <th>ct_armor</th>\n",
       "      <th>t_armor</th>\n",
       "      <th>ct_money</th>\n",
       "      <th>...</th>\n",
       "      <th>t_grenade_flashbang</th>\n",
       "      <th>ct_grenade_smokegrenade</th>\n",
       "      <th>t_grenade_smokegrenade</th>\n",
       "      <th>ct_grenade_incendiarygrenade</th>\n",
       "      <th>t_grenade_incendiarygrenade</th>\n",
       "      <th>ct_grenade_molotovgrenade</th>\n",
       "      <th>t_grenade_molotovgrenade</th>\n",
       "      <th>ct_grenade_decoygrenade</th>\n",
       "      <th>t_grenade_decoygrenade</th>\n",
       "      <th>round_winner</th>\n",
       "    </tr>\n",
       "  </thead>\n",
       "  <tbody>\n",
       "    <tr>\n",
       "      <th>0</th>\n",
       "      <td>175.00</td>\n",
       "      <td>0.0</td>\n",
       "      <td>0.0</td>\n",
       "      <td>6</td>\n",
       "      <td>0</td>\n",
       "      <td>500.0</td>\n",
       "      <td>500.0</td>\n",
       "      <td>0.0</td>\n",
       "      <td>0.0</td>\n",
       "      <td>4000.0</td>\n",
       "      <td>...</td>\n",
       "      <td>0.0</td>\n",
       "      <td>0.0</td>\n",
       "      <td>0.0</td>\n",
       "      <td>0.0</td>\n",
       "      <td>0.0</td>\n",
       "      <td>0.0</td>\n",
       "      <td>0.0</td>\n",
       "      <td>0.0</td>\n",
       "      <td>0.0</td>\n",
       "      <td>0</td>\n",
       "    </tr>\n",
       "    <tr>\n",
       "      <th>1</th>\n",
       "      <td>156.03</td>\n",
       "      <td>0.0</td>\n",
       "      <td>0.0</td>\n",
       "      <td>6</td>\n",
       "      <td>0</td>\n",
       "      <td>500.0</td>\n",
       "      <td>500.0</td>\n",
       "      <td>400.0</td>\n",
       "      <td>300.0</td>\n",
       "      <td>600.0</td>\n",
       "      <td>...</td>\n",
       "      <td>0.0</td>\n",
       "      <td>0.0</td>\n",
       "      <td>2.0</td>\n",
       "      <td>0.0</td>\n",
       "      <td>0.0</td>\n",
       "      <td>0.0</td>\n",
       "      <td>0.0</td>\n",
       "      <td>0.0</td>\n",
       "      <td>0.0</td>\n",
       "      <td>0</td>\n",
       "    </tr>\n",
       "    <tr>\n",
       "      <th>2</th>\n",
       "      <td>96.03</td>\n",
       "      <td>0.0</td>\n",
       "      <td>0.0</td>\n",
       "      <td>6</td>\n",
       "      <td>0</td>\n",
       "      <td>391.0</td>\n",
       "      <td>400.0</td>\n",
       "      <td>294.0</td>\n",
       "      <td>200.0</td>\n",
       "      <td>750.0</td>\n",
       "      <td>...</td>\n",
       "      <td>0.0</td>\n",
       "      <td>0.0</td>\n",
       "      <td>2.0</td>\n",
       "      <td>0.0</td>\n",
       "      <td>0.0</td>\n",
       "      <td>0.0</td>\n",
       "      <td>0.0</td>\n",
       "      <td>0.0</td>\n",
       "      <td>0.0</td>\n",
       "      <td>0</td>\n",
       "    </tr>\n",
       "    <tr>\n",
       "      <th>3</th>\n",
       "      <td>76.03</td>\n",
       "      <td>0.0</td>\n",
       "      <td>0.0</td>\n",
       "      <td>6</td>\n",
       "      <td>0</td>\n",
       "      <td>391.0</td>\n",
       "      <td>400.0</td>\n",
       "      <td>294.0</td>\n",
       "      <td>200.0</td>\n",
       "      <td>750.0</td>\n",
       "      <td>...</td>\n",
       "      <td>0.0</td>\n",
       "      <td>0.0</td>\n",
       "      <td>0.0</td>\n",
       "      <td>0.0</td>\n",
       "      <td>0.0</td>\n",
       "      <td>0.0</td>\n",
       "      <td>0.0</td>\n",
       "      <td>0.0</td>\n",
       "      <td>0.0</td>\n",
       "      <td>0</td>\n",
       "    </tr>\n",
       "    <tr>\n",
       "      <th>4</th>\n",
       "      <td>174.97</td>\n",
       "      <td>1.0</td>\n",
       "      <td>0.0</td>\n",
       "      <td>6</td>\n",
       "      <td>0</td>\n",
       "      <td>500.0</td>\n",
       "      <td>500.0</td>\n",
       "      <td>192.0</td>\n",
       "      <td>0.0</td>\n",
       "      <td>18350.0</td>\n",
       "      <td>...</td>\n",
       "      <td>0.0</td>\n",
       "      <td>0.0</td>\n",
       "      <td>0.0</td>\n",
       "      <td>0.0</td>\n",
       "      <td>0.0</td>\n",
       "      <td>0.0</td>\n",
       "      <td>0.0</td>\n",
       "      <td>0.0</td>\n",
       "      <td>0.0</td>\n",
       "      <td>0</td>\n",
       "    </tr>\n",
       "    <tr>\n",
       "      <th>...</th>\n",
       "      <td>...</td>\n",
       "      <td>...</td>\n",
       "      <td>...</td>\n",
       "      <td>...</td>\n",
       "      <td>...</td>\n",
       "      <td>...</td>\n",
       "      <td>...</td>\n",
       "      <td>...</td>\n",
       "      <td>...</td>\n",
       "      <td>...</td>\n",
       "      <td>...</td>\n",
       "      <td>...</td>\n",
       "      <td>...</td>\n",
       "      <td>...</td>\n",
       "      <td>...</td>\n",
       "      <td>...</td>\n",
       "      <td>...</td>\n",
       "      <td>...</td>\n",
       "      <td>...</td>\n",
       "      <td>...</td>\n",
       "      <td>...</td>\n",
       "    </tr>\n",
       "    <tr>\n",
       "      <th>122405</th>\n",
       "      <td>15.41</td>\n",
       "      <td>11.0</td>\n",
       "      <td>14.0</td>\n",
       "      <td>2</td>\n",
       "      <td>1</td>\n",
       "      <td>200.0</td>\n",
       "      <td>242.0</td>\n",
       "      <td>195.0</td>\n",
       "      <td>359.0</td>\n",
       "      <td>100.0</td>\n",
       "      <td>...</td>\n",
       "      <td>2.0</td>\n",
       "      <td>1.0</td>\n",
       "      <td>1.0</td>\n",
       "      <td>0.0</td>\n",
       "      <td>0.0</td>\n",
       "      <td>0.0</td>\n",
       "      <td>0.0</td>\n",
       "      <td>0.0</td>\n",
       "      <td>0.0</td>\n",
       "      <td>1</td>\n",
       "    </tr>\n",
       "    <tr>\n",
       "      <th>122406</th>\n",
       "      <td>174.93</td>\n",
       "      <td>11.0</td>\n",
       "      <td>15.0</td>\n",
       "      <td>2</td>\n",
       "      <td>0</td>\n",
       "      <td>500.0</td>\n",
       "      <td>500.0</td>\n",
       "      <td>95.0</td>\n",
       "      <td>175.0</td>\n",
       "      <td>11500.0</td>\n",
       "      <td>...</td>\n",
       "      <td>2.0</td>\n",
       "      <td>1.0</td>\n",
       "      <td>0.0</td>\n",
       "      <td>0.0</td>\n",
       "      <td>0.0</td>\n",
       "      <td>0.0</td>\n",
       "      <td>0.0</td>\n",
       "      <td>0.0</td>\n",
       "      <td>0.0</td>\n",
       "      <td>1</td>\n",
       "    </tr>\n",
       "    <tr>\n",
       "      <th>122407</th>\n",
       "      <td>114.93</td>\n",
       "      <td>11.0</td>\n",
       "      <td>15.0</td>\n",
       "      <td>2</td>\n",
       "      <td>0</td>\n",
       "      <td>500.0</td>\n",
       "      <td>500.0</td>\n",
       "      <td>495.0</td>\n",
       "      <td>475.0</td>\n",
       "      <td>1200.0</td>\n",
       "      <td>...</td>\n",
       "      <td>4.0</td>\n",
       "      <td>3.0</td>\n",
       "      <td>5.0</td>\n",
       "      <td>1.0</td>\n",
       "      <td>0.0</td>\n",
       "      <td>0.0</td>\n",
       "      <td>5.0</td>\n",
       "      <td>0.0</td>\n",
       "      <td>0.0</td>\n",
       "      <td>1</td>\n",
       "    </tr>\n",
       "    <tr>\n",
       "      <th>122408</th>\n",
       "      <td>94.93</td>\n",
       "      <td>11.0</td>\n",
       "      <td>15.0</td>\n",
       "      <td>2</td>\n",
       "      <td>0</td>\n",
       "      <td>500.0</td>\n",
       "      <td>500.0</td>\n",
       "      <td>495.0</td>\n",
       "      <td>475.0</td>\n",
       "      <td>1200.0</td>\n",
       "      <td>...</td>\n",
       "      <td>5.0</td>\n",
       "      <td>0.0</td>\n",
       "      <td>3.0</td>\n",
       "      <td>0.0</td>\n",
       "      <td>0.0</td>\n",
       "      <td>0.0</td>\n",
       "      <td>4.0</td>\n",
       "      <td>0.0</td>\n",
       "      <td>0.0</td>\n",
       "      <td>1</td>\n",
       "    </tr>\n",
       "    <tr>\n",
       "      <th>122409</th>\n",
       "      <td>74.93</td>\n",
       "      <td>11.0</td>\n",
       "      <td>15.0</td>\n",
       "      <td>2</td>\n",
       "      <td>0</td>\n",
       "      <td>375.0</td>\n",
       "      <td>479.0</td>\n",
       "      <td>395.0</td>\n",
       "      <td>466.0</td>\n",
       "      <td>1100.0</td>\n",
       "      <td>...</td>\n",
       "      <td>3.0</td>\n",
       "      <td>0.0</td>\n",
       "      <td>2.0</td>\n",
       "      <td>0.0</td>\n",
       "      <td>0.0</td>\n",
       "      <td>0.0</td>\n",
       "      <td>3.0</td>\n",
       "      <td>0.0</td>\n",
       "      <td>0.0</td>\n",
       "      <td>1</td>\n",
       "    </tr>\n",
       "  </tbody>\n",
       "</table>\n",
       "<p>122410 rows × 97 columns</p>\n",
       "</div>"
      ],
      "text/plain": [
       "        time_left  ct_score  t_score  map  bomb_planted  ct_health  t_health  \\\n",
       "0          175.00       0.0      0.0    6             0      500.0     500.0   \n",
       "1          156.03       0.0      0.0    6             0      500.0     500.0   \n",
       "2           96.03       0.0      0.0    6             0      391.0     400.0   \n",
       "3           76.03       0.0      0.0    6             0      391.0     400.0   \n",
       "4          174.97       1.0      0.0    6             0      500.0     500.0   \n",
       "...           ...       ...      ...  ...           ...        ...       ...   \n",
       "122405      15.41      11.0     14.0    2             1      200.0     242.0   \n",
       "122406     174.93      11.0     15.0    2             0      500.0     500.0   \n",
       "122407     114.93      11.0     15.0    2             0      500.0     500.0   \n",
       "122408      94.93      11.0     15.0    2             0      500.0     500.0   \n",
       "122409      74.93      11.0     15.0    2             0      375.0     479.0   \n",
       "\n",
       "        ct_armor  t_armor  ct_money  ...  t_grenade_flashbang  \\\n",
       "0            0.0      0.0    4000.0  ...                  0.0   \n",
       "1          400.0    300.0     600.0  ...                  0.0   \n",
       "2          294.0    200.0     750.0  ...                  0.0   \n",
       "3          294.0    200.0     750.0  ...                  0.0   \n",
       "4          192.0      0.0   18350.0  ...                  0.0   \n",
       "...          ...      ...       ...  ...                  ...   \n",
       "122405     195.0    359.0     100.0  ...                  2.0   \n",
       "122406      95.0    175.0   11500.0  ...                  2.0   \n",
       "122407     495.0    475.0    1200.0  ...                  4.0   \n",
       "122408     495.0    475.0    1200.0  ...                  5.0   \n",
       "122409     395.0    466.0    1100.0  ...                  3.0   \n",
       "\n",
       "        ct_grenade_smokegrenade  t_grenade_smokegrenade  \\\n",
       "0                           0.0                     0.0   \n",
       "1                           0.0                     2.0   \n",
       "2                           0.0                     2.0   \n",
       "3                           0.0                     0.0   \n",
       "4                           0.0                     0.0   \n",
       "...                         ...                     ...   \n",
       "122405                      1.0                     1.0   \n",
       "122406                      1.0                     0.0   \n",
       "122407                      3.0                     5.0   \n",
       "122408                      0.0                     3.0   \n",
       "122409                      0.0                     2.0   \n",
       "\n",
       "        ct_grenade_incendiarygrenade  t_grenade_incendiarygrenade  \\\n",
       "0                                0.0                          0.0   \n",
       "1                                0.0                          0.0   \n",
       "2                                0.0                          0.0   \n",
       "3                                0.0                          0.0   \n",
       "4                                0.0                          0.0   \n",
       "...                              ...                          ...   \n",
       "122405                           0.0                          0.0   \n",
       "122406                           0.0                          0.0   \n",
       "122407                           1.0                          0.0   \n",
       "122408                           0.0                          0.0   \n",
       "122409                           0.0                          0.0   \n",
       "\n",
       "        ct_grenade_molotovgrenade  t_grenade_molotovgrenade  \\\n",
       "0                             0.0                       0.0   \n",
       "1                             0.0                       0.0   \n",
       "2                             0.0                       0.0   \n",
       "3                             0.0                       0.0   \n",
       "4                             0.0                       0.0   \n",
       "...                           ...                       ...   \n",
       "122405                        0.0                       0.0   \n",
       "122406                        0.0                       0.0   \n",
       "122407                        0.0                       5.0   \n",
       "122408                        0.0                       4.0   \n",
       "122409                        0.0                       3.0   \n",
       "\n",
       "        ct_grenade_decoygrenade  t_grenade_decoygrenade  round_winner  \n",
       "0                           0.0                     0.0             0  \n",
       "1                           0.0                     0.0             0  \n",
       "2                           0.0                     0.0             0  \n",
       "3                           0.0                     0.0             0  \n",
       "4                           0.0                     0.0             0  \n",
       "...                         ...                     ...           ...  \n",
       "122405                      0.0                     0.0             1  \n",
       "122406                      0.0                     0.0             1  \n",
       "122407                      0.0                     0.0             1  \n",
       "122408                      0.0                     0.0             1  \n",
       "122409                      0.0                     0.0             1  \n",
       "\n",
       "[122410 rows x 97 columns]"
      ]
     },
     "execution_count": 8,
     "metadata": {},
     "output_type": "execute_result"
    }
   ],
   "source": [
    "data"
   ]
  },
  {
   "cell_type": "code",
   "execution_count": 9,
   "metadata": {},
   "outputs": [],
   "source": [
    "X_train, y_train = data.drop(\"round_winner\",axis=1)[:100000], data.round_winner[:100000]\n",
    "X_test, y_test = data.drop(\"round_winner\",axis=1)[100000:], data.round_winner[100000:]"
   ]
  },
  {
   "cell_type": "code",
   "execution_count": 43,
   "metadata": {},
   "outputs": [
    {
     "name": "stdout",
     "output_type": "stream",
     "text": [
      "0.7407853636769299\n"
     ]
    }
   ],
   "source": [
    "linreg = LogisticRegression(penalty=\"l2\", solver=\"liblinear\")\n",
    "linreg = linreg.fit(X_train, y_train)\n",
    "pred_linreg = linreg.predict(X_test)\n",
    "pred_linreg = list(map(lambda x: 1 if x > 0.5 else 0, pred_linreg))\n",
    "acc_linreg = accuracy_score(y_test, pred_linreg)\n",
    "print(acc_linreg)"
   ]
  },
  {
   "cell_type": "code",
   "execution_count": 44,
   "metadata": {},
   "outputs": [
    {
     "data": {
      "text/plain": [
       "array([[ 8.22250199e-04,  7.09712544e-04, -9.70291221e-03,\n",
       "         2.77594796e-02,  6.83101562e-01, -5.20411077e-03,\n",
       "         3.57768326e-03, -3.68845491e-03,  3.66057896e-03,\n",
       "        -1.75152267e-05,  1.51798917e-05, -3.24171321e-02,\n",
       "         2.01240754e-01, -2.12677174e-02, -2.44740187e-01,\n",
       "         4.08233100e-01, -2.16781737e-01,  2.02327793e-01,\n",
       "        -2.92120935e-01,  3.12788853e-02, -3.42347014e-01,\n",
       "         2.39013898e-01,  0.00000000e+00, -3.57356626e-04,\n",
       "        -6.36711209e-02,  5.88777510e-02, -1.57362866e-02,\n",
       "         7.58887943e-03, -2.32707174e-01,  3.71254619e-02,\n",
       "         0.00000000e+00,  8.03907931e-03, -7.35599154e-02,\n",
       "         1.01060571e-01,  1.05446979e-02,  2.45173142e-02,\n",
       "         6.92555819e-04,  0.00000000e+00, -1.78855320e-01,\n",
       "         3.76389391e-02, -2.84423872e-01,  1.45876622e-01,\n",
       "         2.32821010e-02,  7.79079678e-02, -9.11937869e-03,\n",
       "         2.14555241e-04, -8.73995468e-03,  3.68343030e-02,\n",
       "         1.61530149e-02, -1.02811142e-02, -1.38969802e-01,\n",
       "         3.45075580e-02,  0.00000000e+00, -4.74860905e-04,\n",
       "        -1.07417309e-02, -3.26233884e-03, -4.02922980e-03,\n",
       "         5.57532443e-03,  0.00000000e+00, -1.20170466e-03,\n",
       "         0.00000000e+00,  3.21924152e-03,  3.66369544e-03,\n",
       "        -6.17191736e-04, -2.80263436e-01,  2.41838060e-01,\n",
       "        -1.43062772e-01, -5.04120376e-02, -2.95543518e-02,\n",
       "         1.41993975e-01, -2.32951162e-02, -3.30214221e-03,\n",
       "        -9.25344413e-02,  7.33650054e-02, -5.33326421e-03,\n",
       "        -2.24126084e-02, -4.82034162e-02,  2.20966975e-01,\n",
       "         4.57838191e-02,  5.38929569e-02,  1.60501613e-02,\n",
       "         2.52108325e-02, -4.86795056e-02, -1.98391732e-02,\n",
       "         1.90625617e-02, -2.10286862e-02,  2.54517004e-03,\n",
       "        -8.62961492e-02,  1.86111554e-02, -1.13305746e-01,\n",
       "         9.33537446e-02, -1.09853706e-02, -7.59842026e-04,\n",
       "        -7.78672079e-02, -2.40674771e-02,  4.61355959e-02]])"
      ]
     },
     "execution_count": 44,
     "metadata": {},
     "output_type": "execute_result"
    }
   ],
   "source": [
    "linreg.coef_"
   ]
  },
  {
   "cell_type": "markdown",
   "metadata": {},
   "source": [
    "# НУЛИ ОЗНАЧАЮТ ТО ЧТО МОДЕЛЬ РЕШИЛА ЧТО ЭТИ ПРИЗНАКИ НЕ ВАЖНЫ ДЛЯ КЛАССИФИКАЦИИ"
   ]
  },
  {
   "cell_type": "code",
   "execution_count": 45,
   "metadata": {},
   "outputs": [
    {
     "name": "stdout",
     "output_type": "stream",
     "text": [
      "0.7423025435073628\n"
     ]
    }
   ],
   "source": [
    "linreg = LogisticRegression(penalty=\"l1\", solver=\"liblinear\")\n",
    "linreg = linreg.fit(X_train, y_train)\n",
    "pred_linreg = linreg.predict(X_test)\n",
    "pred_linreg = list(map(lambda x: 1 if x > 0.5 else 0, pred_linreg))\n",
    "acc_linreg = accuracy_score(y_test, pred_linreg)\n",
    "print(acc_linreg)"
   ]
  },
  {
   "cell_type": "code",
   "execution_count": 46,
   "metadata": {},
   "outputs": [
    {
     "data": {
      "text/plain": [
       "(1, 96)"
      ]
     },
     "execution_count": 46,
     "metadata": {},
     "output_type": "execute_result"
    }
   ],
   "source": [
    "linreg.coef_.shape"
   ]
  },
  {
   "cell_type": "code",
   "execution_count": 47,
   "metadata": {},
   "outputs": [
    {
     "data": {
      "text/plain": [
       "array([[ 1.43135476e-03, -3.86832626e-03, -3.40326148e-03,\n",
       "         3.11968973e-02,  1.06664602e+00, -4.97890005e-03,\n",
       "         3.48850096e-03, -2.83935052e-03,  2.95126714e-03,\n",
       "        -1.55423519e-05,  1.30879253e-05, -7.07557361e-03,\n",
       "         1.60743818e-01, -2.28263323e-02, -2.30912241e-01,\n",
       "         2.93556208e-01, -3.42572312e-01,  3.85100191e-01,\n",
       "        -4.54782446e-01,  4.16360282e-01, -4.70163148e-01,\n",
       "         4.11947489e-01,  0.00000000e+00,  0.00000000e+00,\n",
       "        -9.63004448e-02,  2.50221857e-01, -2.44527877e-01,\n",
       "         3.80910853e-01, -3.79795157e-01,  5.26419143e-01,\n",
       "         0.00000000e+00,  4.01703681e-01, -5.11245995e-01,\n",
       "         2.83983810e-01,  1.87691125e-01,  1.31198812e-01,\n",
       "         0.00000000e+00,  0.00000000e+00, -4.31330238e-01,\n",
       "         9.61664211e-01, -4.22085092e-01,  3.07255960e-01,\n",
       "         1.07328499e-01,  2.52256282e-01, -3.04840967e-01,\n",
       "         0.00000000e+00, -4.61264299e-01,  1.10906907e+00,\n",
       "         1.46809758e-01, -1.16968963e-01, -2.80304631e-01,\n",
       "         3.69135116e-01,  0.00000000e+00,  0.00000000e+00,\n",
       "        -6.73297986e-01, -8.26720958e-01, -2.04761299e+00,\n",
       "         1.09321338e+00,  0.00000000e+00,  0.00000000e+00,\n",
       "         0.00000000e+00,  6.68647508e-01,  0.00000000e+00,\n",
       "         0.00000000e+00, -4.25637210e-01,  4.25513785e-01,\n",
       "        -3.94495137e-01,  8.68898144e-02, -2.47391673e-01,\n",
       "         4.11227918e-01, -3.56845597e-01, -7.28873631e-01,\n",
       "        -1.05113089e-01,  2.26705194e-01, -4.65226006e-02,\n",
       "        -7.68265803e-02, -4.03434459e-03,  2.95930596e-01,\n",
       "         6.11535371e-02,  1.74997139e-01,  5.33878777e-02,\n",
       "         3.38156612e-01, -4.93602901e-01,  1.87487821e-01,\n",
       "         1.75795144e-02, -2.33213229e-02,  2.63236171e-02,\n",
       "        -1.00281566e-01,  3.36453348e-02, -1.42438072e-01,\n",
       "         9.75397608e-02, -1.63753828e-01,  5.38374876e-02,\n",
       "        -8.50945604e-02,  1.08400225e-02,  5.99757891e-02]])"
      ]
     },
     "execution_count": 47,
     "metadata": {},
     "output_type": "execute_result"
    }
   ],
   "source": [
    "linreg.coef_"
   ]
  },
  {
   "cell_type": "markdown",
   "metadata": {},
   "source": [
    "# НУЛИ ОЗНАЧАЮТ ТО ЧТО МОДЕЛЬ РЕШИЛА ЧТО ЭТИ ПРИЗНАКИ НЕ ВАЖНЫ ДЛЯ КЛАССИФИКАЦИИ"
   ]
  },
  {
   "cell_type": "code",
   "execution_count": 60,
   "metadata": {},
   "outputs": [],
   "source": [
    "coefs = [i for i in linreg.coef_[0]]"
   ]
  },
  {
   "cell_type": "code",
   "execution_count": 68,
   "metadata": {},
   "outputs": [
    {
     "data": {
      "text/plain": [
       "22"
      ]
     },
     "execution_count": 68,
     "metadata": {},
     "output_type": "execute_result"
    }
   ],
   "source": [
    "coefs.index"
   ]
  },
  {
   "cell_type": "code",
   "execution_count": 71,
   "metadata": {},
   "outputs": [],
   "source": [
    "zero_indexes = [i for i, n in enumerate(coefs) if n == 0]"
   ]
  },
  {
   "cell_type": "code",
   "execution_count": 75,
   "metadata": {},
   "outputs": [
    {
     "data": {
      "text/plain": [
       "[22, 23, 30, 36, 37, 45, 52, 53, 58, 59, 60, 62, 63]"
      ]
     },
     "execution_count": 75,
     "metadata": {},
     "output_type": "execute_result"
    }
   ],
   "source": [
    "zero_indexes"
   ]
  },
  {
   "cell_type": "code",
   "execution_count": 78,
   "metadata": {},
   "outputs": [],
   "source": [
    "data = data.drop(columns=[data.columns[i] for i in zero_indexes])"
   ]
  },
  {
   "cell_type": "code",
   "execution_count": 79,
   "metadata": {},
   "outputs": [],
   "source": [
    "X_train, y_train = data.drop(\"round_winner\",axis=1)[:100000], data.round_winner[:100000]\n",
    "X_test, y_test = data.drop(\"round_winner\",axis=1)[100000:], data.round_winner[100000:]"
   ]
  },
  {
   "cell_type": "code",
   "execution_count": 95,
   "metadata": {},
   "outputs": [
    {
     "name": "stdout",
     "output_type": "stream",
     "text": [
      "0.742347166443552\n"
     ]
    }
   ],
   "source": [
    "linreg = LogisticRegression(penalty=\"l1\", solver=\"liblinear\", C = 100)\n",
    "linreg = linreg.fit(X_train, y_train)\n",
    "pred_linreg = linreg.predict(X_test)\n",
    "pred_linreg = list(map(lambda x: 1 if x > 0.5 else 0, pred_linreg))\n",
    "acc_linreg = accuracy_score(y_test, pred_linreg)\n",
    "print(acc_linreg)"
   ]
  },
  {
   "cell_type": "markdown",
   "metadata": {},
   "source": [
    "# ТАК КАК МЫ УЖЕ УДАЛИЛИ НЕ ВАЖНЫЕ СТОЛБЦЫ РЕГУЛЯРИЗАЦИЯ НЕ ВАЖНА И ЕЕ МОЖНО УМЕНЬШИТЬ УВЕЛИЧЕНИЕМ ПАРАМЕТРА 'С'"
   ]
  },
  {
   "cell_type": "markdown",
   "metadata": {},
   "source": [
    "В предыдущих статьях мы говорили об обобщении и переобучении. Мы видели, что даже когда мы добавляем столбец случайного шума к нашим данным, мы всё же можем улучшить наш показатель машинного обучения. В общем случае мы хотим, чтобы размерность нашего X была намного меньше количества наблюдений N. Другая возможная проблема заключается в том, что при определенных наборах данных размерность намного большее, чем количество наблюдений.\n",
    "\n",
    "Что такое L1-регуляризация? Теория\n",
    "Один из способов показать это наглядно – построить матрицу X. Мы хотим, чтобы наша матрица X была тонкой, когда N велико, а D – мало. В обратном же случае, когда матрица X широка, N мало, а D велико, и получается не очень хорошо, а нам нужно предпринять некоторые действия, чтобы избежать потенциальных проблем.\n",
    "\n",
    "В такой ситуации мы можем из всего массива факторов отобрать лишь небольшое количество важнейших, задающих тенденцию, и удалить все остальные, являющиеся просто шумом. Это называется разрежением, поскольку большинство факторов будет равно нулю, и лишь небольшое их число не будет равным нулю. В этой лекции мы обсудим L1-регуляризацию, позволяющую нам достичь разрежения.\n",
    "\n",
    "В основе L1-регуляризации лежит достаточно простая идея. Как и в случае L2-регуляризации, мы просто добавляем штраф к первоначальной функции затрат. Подобно тому, как в L2-регуляризации мы используем L2-нормирование для поправки весовых коэффициентов, в L1-регуляризации мы используем специальное L1-нормирование. L2-регуляризация называется также регрессией Риджа, а L1-регуляризация – лассо-регрессией.\n",
    "\n",
    "J_{RIDGE} = sum_{i=1}^{N} (y_n - widehat y_n)^2 + lambda parallel wparallel^2_2, \n",
    "\n",
    "J_{LASSO} = sum_{i=1}^{N} (y_n - widehat y_n)^2 + lambda parallel wparallel_1. \n",
    "\n",
    "Прежде чем мы займёмся решением задачи, давайте рассмотрим распределение вероятности. Вы знаете, что экспонента отрицательного квадрата – это распределение Гаусса, поэтому при L2-регуляризации мы имели гауссово правдоподобие и гауссов приор для w. В данном же случае у нас больше нет гауссова приора по w.\n",
    "\n",
    "https://craftappmobile.com/l1-vs-l2-regularization/"
   ]
  },
  {
   "cell_type": "code",
   "execution_count": null,
   "metadata": {},
   "outputs": [],
   "source": []
  }
 ],
 "metadata": {
  "kernelspec": {
   "display_name": "Python 3",
   "language": "python",
   "name": "python3"
  },
  "language_info": {
   "codemirror_mode": {
    "name": "ipython",
    "version": 3
   },
   "file_extension": ".py",
   "mimetype": "text/x-python",
   "name": "python",
   "nbconvert_exporter": "python",
   "pygments_lexer": "ipython3",
   "version": "3.8.3"
  }
 },
 "nbformat": 4,
 "nbformat_minor": 4
}
